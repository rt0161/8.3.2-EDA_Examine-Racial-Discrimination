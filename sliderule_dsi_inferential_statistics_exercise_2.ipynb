{
 "cells": [
  {
   "cell_type": "markdown",
   "metadata": {},
   "source": [
    "# Examining Racial Discrimination in the US Job Market\n",
    "\n",
    "### Background\n",
    "Racial discrimination continues to be pervasive in cultures throughout the world. Researchers examined the level of racial discrimination in the United States labor market by randomly assigning identical résumés to black-sounding or white-sounding names and observing the impact on requests for interviews from employers.\n",
    "\n",
    "### Data\n",
    "In the dataset provided, each row represents a resume. The 'race' column has two values, 'b' and 'w', indicating black-sounding and white-sounding. The column 'call' has two values, 1 and 0, indicating whether the resume received a call from employers or not.\n",
    "\n",
    "Note that the 'b' and 'w' values in race are assigned randomly to the resumes when presented to the employer."
   ]
  },
  {
   "cell_type": "markdown",
   "metadata": {},
   "source": [
    "### Exercises\n",
    "You will perform a statistical analysis to establish whether race has a significant impact on the rate of callbacks for resumes.\n",
    "\n",
    "Answer the following questions **in this notebook below and submit to your Github account**. \n",
    "\n",
    "   1. What test is appropriate for this problem? Does CLT apply?\n",
    "   2. What are the null and alternate hypotheses?\n",
    "   3. Compute margin of error, confidence interval, and p-value. Try using both the bootstrapping and the frequentist statistical approaches.\n",
    "   4. Write a story describing the statistical significance in the context or the original problem.\n",
    "   5. Does your analysis mean that race/name is the most important factor in callback success? Why or why not? If not, how would you amend your analysis?\n",
    "\n",
    "You can include written notes in notebook cells using Markdown: \n",
    "   - In the control panel at the top, choose Cell > Cell Type > Markdown\n",
    "   - Markdown syntax: http://nestacms.com/docs/creating-content/markdown-cheat-sheet\n",
    "\n",
    "#### Resources\n",
    "+ Experiment information and data source: http://www.povertyactionlab.org/evaluation/discrimination-job-market-united-states\n",
    "+ Scipy statistical methods: http://docs.scipy.org/doc/scipy/reference/stats.html \n",
    "+ Markdown syntax: http://nestacms.com/docs/creating-content/markdown-cheat-sheet\n",
    "+ Formulas for the Bernoulli distribution: https://en.wikipedia.org/wiki/Bernoulli_distribution"
   ]
  },
  {
   "cell_type": "code",
   "execution_count": 1,
   "metadata": {},
   "outputs": [],
   "source": [
    "import pandas as pd\n",
    "import numpy as np\n",
    "from scipy import stats"
   ]
  },
  {
   "cell_type": "code",
   "execution_count": 2,
   "metadata": {},
   "outputs": [],
   "source": [
    "data = pd.io.stata.read_stata('data/us_job_market_discrimination.dta')"
   ]
  },
  {
   "cell_type": "code",
   "execution_count": 8,
   "metadata": {},
   "outputs": [
    {
     "data": {
      "text/plain": [
       "235.0"
      ]
     },
     "execution_count": 8,
     "metadata": {},
     "output_type": "execute_result"
    }
   ],
   "source": [
    "# number of callbacks for black-sounding names\n",
    "sum(data[data.race=='w'].call)"
   ]
  },
  {
   "cell_type": "code",
   "execution_count": 6,
   "metadata": {},
   "outputs": [
    {
     "data": {
      "text/html": [
       "<div>\n",
       "<style scoped>\n",
       "    .dataframe tbody tr th:only-of-type {\n",
       "        vertical-align: middle;\n",
       "    }\n",
       "\n",
       "    .dataframe tbody tr th {\n",
       "        vertical-align: top;\n",
       "    }\n",
       "\n",
       "    .dataframe thead th {\n",
       "        text-align: right;\n",
       "    }\n",
       "</style>\n",
       "<table border=\"1\" class=\"dataframe\">\n",
       "  <thead>\n",
       "    <tr style=\"text-align: right;\">\n",
       "      <th></th>\n",
       "      <th>id</th>\n",
       "      <th>ad</th>\n",
       "      <th>education</th>\n",
       "      <th>ofjobs</th>\n",
       "      <th>yearsexp</th>\n",
       "      <th>honors</th>\n",
       "      <th>volunteer</th>\n",
       "      <th>military</th>\n",
       "      <th>empholes</th>\n",
       "      <th>occupspecific</th>\n",
       "      <th>...</th>\n",
       "      <th>compreq</th>\n",
       "      <th>orgreq</th>\n",
       "      <th>manuf</th>\n",
       "      <th>transcom</th>\n",
       "      <th>bankreal</th>\n",
       "      <th>trade</th>\n",
       "      <th>busservice</th>\n",
       "      <th>othservice</th>\n",
       "      <th>missind</th>\n",
       "      <th>ownership</th>\n",
       "    </tr>\n",
       "  </thead>\n",
       "  <tbody>\n",
       "    <tr>\n",
       "      <th>0</th>\n",
       "      <td>b</td>\n",
       "      <td>1</td>\n",
       "      <td>4</td>\n",
       "      <td>2</td>\n",
       "      <td>6</td>\n",
       "      <td>0</td>\n",
       "      <td>0</td>\n",
       "      <td>0</td>\n",
       "      <td>1</td>\n",
       "      <td>17</td>\n",
       "      <td>...</td>\n",
       "      <td>1.0</td>\n",
       "      <td>0.0</td>\n",
       "      <td>1.0</td>\n",
       "      <td>0.0</td>\n",
       "      <td>0.0</td>\n",
       "      <td>0.0</td>\n",
       "      <td>0.0</td>\n",
       "      <td>0.0</td>\n",
       "      <td>0.0</td>\n",
       "      <td></td>\n",
       "    </tr>\n",
       "    <tr>\n",
       "      <th>1</th>\n",
       "      <td>b</td>\n",
       "      <td>1</td>\n",
       "      <td>3</td>\n",
       "      <td>3</td>\n",
       "      <td>6</td>\n",
       "      <td>0</td>\n",
       "      <td>1</td>\n",
       "      <td>1</td>\n",
       "      <td>0</td>\n",
       "      <td>316</td>\n",
       "      <td>...</td>\n",
       "      <td>1.0</td>\n",
       "      <td>0.0</td>\n",
       "      <td>1.0</td>\n",
       "      <td>0.0</td>\n",
       "      <td>0.0</td>\n",
       "      <td>0.0</td>\n",
       "      <td>0.0</td>\n",
       "      <td>0.0</td>\n",
       "      <td>0.0</td>\n",
       "      <td></td>\n",
       "    </tr>\n",
       "    <tr>\n",
       "      <th>2</th>\n",
       "      <td>b</td>\n",
       "      <td>1</td>\n",
       "      <td>4</td>\n",
       "      <td>1</td>\n",
       "      <td>6</td>\n",
       "      <td>0</td>\n",
       "      <td>0</td>\n",
       "      <td>0</td>\n",
       "      <td>0</td>\n",
       "      <td>19</td>\n",
       "      <td>...</td>\n",
       "      <td>1.0</td>\n",
       "      <td>0.0</td>\n",
       "      <td>1.0</td>\n",
       "      <td>0.0</td>\n",
       "      <td>0.0</td>\n",
       "      <td>0.0</td>\n",
       "      <td>0.0</td>\n",
       "      <td>0.0</td>\n",
       "      <td>0.0</td>\n",
       "      <td></td>\n",
       "    </tr>\n",
       "    <tr>\n",
       "      <th>3</th>\n",
       "      <td>b</td>\n",
       "      <td>1</td>\n",
       "      <td>3</td>\n",
       "      <td>4</td>\n",
       "      <td>6</td>\n",
       "      <td>0</td>\n",
       "      <td>1</td>\n",
       "      <td>0</td>\n",
       "      <td>1</td>\n",
       "      <td>313</td>\n",
       "      <td>...</td>\n",
       "      <td>1.0</td>\n",
       "      <td>0.0</td>\n",
       "      <td>1.0</td>\n",
       "      <td>0.0</td>\n",
       "      <td>0.0</td>\n",
       "      <td>0.0</td>\n",
       "      <td>0.0</td>\n",
       "      <td>0.0</td>\n",
       "      <td>0.0</td>\n",
       "      <td></td>\n",
       "    </tr>\n",
       "    <tr>\n",
       "      <th>4</th>\n",
       "      <td>b</td>\n",
       "      <td>1</td>\n",
       "      <td>3</td>\n",
       "      <td>3</td>\n",
       "      <td>22</td>\n",
       "      <td>0</td>\n",
       "      <td>0</td>\n",
       "      <td>0</td>\n",
       "      <td>0</td>\n",
       "      <td>313</td>\n",
       "      <td>...</td>\n",
       "      <td>1.0</td>\n",
       "      <td>1.0</td>\n",
       "      <td>0.0</td>\n",
       "      <td>0.0</td>\n",
       "      <td>0.0</td>\n",
       "      <td>0.0</td>\n",
       "      <td>0.0</td>\n",
       "      <td>1.0</td>\n",
       "      <td>0.0</td>\n",
       "      <td>Nonprofit</td>\n",
       "    </tr>\n",
       "  </tbody>\n",
       "</table>\n",
       "<p>5 rows × 65 columns</p>\n",
       "</div>"
      ],
      "text/plain": [
       "  id ad  education  ofjobs  yearsexp  honors  volunteer  military  empholes  \\\n",
       "0  b  1          4       2         6       0          0         0         1   \n",
       "1  b  1          3       3         6       0          1         1         0   \n",
       "2  b  1          4       1         6       0          0         0         0   \n",
       "3  b  1          3       4         6       0          1         0         1   \n",
       "4  b  1          3       3        22       0          0         0         0   \n",
       "\n",
       "   occupspecific    ...      compreq  orgreq  manuf  transcom  bankreal trade  \\\n",
       "0             17    ...          1.0     0.0    1.0       0.0       0.0   0.0   \n",
       "1            316    ...          1.0     0.0    1.0       0.0       0.0   0.0   \n",
       "2             19    ...          1.0     0.0    1.0       0.0       0.0   0.0   \n",
       "3            313    ...          1.0     0.0    1.0       0.0       0.0   0.0   \n",
       "4            313    ...          1.0     1.0    0.0       0.0       0.0   0.0   \n",
       "\n",
       "  busservice othservice  missind  ownership  \n",
       "0        0.0        0.0      0.0             \n",
       "1        0.0        0.0      0.0             \n",
       "2        0.0        0.0      0.0             \n",
       "3        0.0        0.0      0.0             \n",
       "4        0.0        1.0      0.0  Nonprofit  \n",
       "\n",
       "[5 rows x 65 columns]"
      ]
     },
     "execution_count": 6,
     "metadata": {},
     "output_type": "execute_result"
    }
   ],
   "source": [
    "data.head()"
   ]
  },
  {
   "cell_type": "code",
   "execution_count": 9,
   "metadata": {},
   "outputs": [],
   "source": [
    "data_dump=data[['race','call']]"
   ]
  },
  {
   "cell_type": "code",
   "execution_count": 57,
   "metadata": {},
   "outputs": [
    {
     "data": {
      "text/html": [
       "<div>\n",
       "<style scoped>\n",
       "    .dataframe tbody tr th:only-of-type {\n",
       "        vertical-align: middle;\n",
       "    }\n",
       "\n",
       "    .dataframe tbody tr th {\n",
       "        vertical-align: top;\n",
       "    }\n",
       "\n",
       "    .dataframe thead th {\n",
       "        text-align: right;\n",
       "    }\n",
       "</style>\n",
       "<table border=\"1\" class=\"dataframe\">\n",
       "  <thead>\n",
       "    <tr style=\"text-align: right;\">\n",
       "      <th></th>\n",
       "      <th>race</th>\n",
       "      <th>call</th>\n",
       "    </tr>\n",
       "  </thead>\n",
       "  <tbody>\n",
       "    <tr>\n",
       "      <th>0</th>\n",
       "      <td>w</td>\n",
       "      <td>0.0</td>\n",
       "    </tr>\n",
       "    <tr>\n",
       "      <th>1</th>\n",
       "      <td>w</td>\n",
       "      <td>0.0</td>\n",
       "    </tr>\n",
       "    <tr>\n",
       "      <th>2</th>\n",
       "      <td>b</td>\n",
       "      <td>0.0</td>\n",
       "    </tr>\n",
       "    <tr>\n",
       "      <th>3</th>\n",
       "      <td>b</td>\n",
       "      <td>0.0</td>\n",
       "    </tr>\n",
       "    <tr>\n",
       "      <th>4</th>\n",
       "      <td>w</td>\n",
       "      <td>0.0</td>\n",
       "    </tr>\n",
       "  </tbody>\n",
       "</table>\n",
       "</div>"
      ],
      "text/plain": [
       "  race  call\n",
       "0    w   0.0\n",
       "1    w   0.0\n",
       "2    b   0.0\n",
       "3    b   0.0\n",
       "4    w   0.0"
      ]
     },
     "execution_count": 57,
     "metadata": {},
     "output_type": "execute_result"
    }
   ],
   "source": [
    "data_dump.head()"
   ]
  },
  {
   "cell_type": "markdown",
   "metadata": {
    "collapsed": true
   },
   "source": [
    "<div class=\"span5 alert alert-success\">\n",
    "<p>Your answers to Q1 and Q2 here</p>\n",
    "</div>"
   ]
  },
  {
   "cell_type": "markdown",
   "metadata": {},
   "source": [
    "#### 1. What test is appropriate for this problem? Does CLT apply?"
   ]
  },
  {
   "cell_type": "markdown",
   "metadata": {},
   "source": [
    "##### [ANS] Hypothesis test is appropriate for the problem.  \n",
    "##### Check 3 prerequisit of CLT: (1) Randomness: The white or black names on the resumes are \"randomly\" assigned, as in description. So it satisfies the random requirement.\n",
    "##### (2) Normal distribution: There were no description of the population distribution, but the sampling size is 157 and 235 for black and white (been called). Both sizes are >> 30 . So the distribution should be roughly normal.\n",
    "##### (3) Independance: The sampling is likely not with replacement, but since to total population of job seeker(who has been called) must be way larger than 10* (157+235), we can say that the samples are independent."
   ]
  },
  {
   "cell_type": "markdown",
   "metadata": {},
   "source": [
    "#### 2.What are the null and alternate hypotheses?"
   ]
  },
  {
   "cell_type": "code",
   "execution_count": 36,
   "metadata": {},
   "outputs": [
    {
     "name": "stdout",
     "output_type": "stream",
     "text": [
      "proportion of white candidates called: 0.0965092402464\n",
      "proportion of black candidates called: 0.064476386037\n",
      "difference : 0.0320328542094\n"
     ]
    }
   ],
   "source": [
    "p_wcall = sum(data_dump[data_dump.race=='w'].call)/len(data_dump[data_dump.race=='w'])\n",
    "p_bcall = sum(data_dump[data_dump.race=='b'].call)/len(data_dump[data_dump.race=='b'])\n",
    "print \"proportion of white candidates called:\", p_wcall\n",
    "print \"proportion of black candidates called:\", p_bcall\n",
    "print \"difference :\", p_wcall-p_bcall"
   ]
  },
  {
   "cell_type": "markdown",
   "metadata": {},
   "source": [
    "##### We want to know,  that the proportion of black candidates getting called, are not the same as white, this is not due to chance. \n",
    "##### Null hypothesis H0: The higher proportion of white candidates getting called is due to chance. That the proportion of white and black people getting calls are identical. P(white | called ) =P(black | called). That is , P(white | called)-P(black | called) =0\n",
    "##### Alternative hypothesis H1: P(white | called) != P(black | called), that is P(white | called) - P(black | called) != 0\n",
    "##### Use a two-tailed z-test, since we can approximate population standard deviation by sample variances.\n",
    "##### Setting confidence level = 95%"
   ]
  },
  {
   "cell_type": "code",
   "execution_count": 14,
   "metadata": {},
   "outputs": [],
   "source": [
    "w = data_dump[data.race=='w']\n",
    "b = data_dump[data.race=='b']"
   ]
  },
  {
   "cell_type": "markdown",
   "metadata": {},
   "source": [
    "#### 3. Compute margin of error, confidence interval, and p-value. Try using both the bootstrapping and the frequentist statistical approaches."
   ]
  },
  {
   "cell_type": "code",
   "execution_count": 46,
   "metadata": {
    "scrolled": true
   },
   "outputs": [
    {
     "name": "stdout",
     "output_type": "stream",
     "text": [
      "Margin of error is : 0.0152554063499\n",
      "Confidence interval for the difference between proportion of the white and the black : -0.0152554063499 to 0.0152554063499\n",
      "z statistic =  4.11555043573\n",
      "p value is : 3.86256520752e-05\n"
     ]
    }
   ],
   "source": [
    "## frequentist approach: calculate margin of error\n",
    "## based on H0, p_diff = 0\n",
    "std_w = np.sqrt(p_wcall*(1-p_wcall)) ## Standard Deviation of white candidate(based on benoulli distribution)\n",
    "std_b = np.sqrt(p_bcall*((1-p_bcall)))##                       black \n",
    "std_diff = np.sqrt((std_w**2)/float(len(w))+(std_b**2)/float(len(b))) ## Standard Deviation of the difference between black and white\n",
    "## for the significant level 95%, the z* valule is : 1.96\n",
    "z_crit_val = 1.96\n",
    "\n",
    "MOE = z_crit_val*std_diff   # margin of error\n",
    "p_diff = p_wcall-p_bcall\n",
    "print \"Margin of error is :\", MOE\n",
    "print \"Confidence interval for the difference between proportion of the white and the black :\", 0-MOE, \"to\", 0+MOE\n",
    "\n",
    "z_stat = (p_diff-0)/std_diff\n",
    "print \"z statistic = \", z_stat\n",
    "### according to t-table , t=3.94 corresponds to probability of 0.99996 to the left of the distribution\n",
    "p_val = stats.norm.sf(abs(z_stat))*2 #two-tailed\n",
    "print \"p value is :\" ,p_val\n"
   ]
  },
  {
   "cell_type": "markdown",
   "metadata": {},
   "source": [
    "#### Because p-value is way smaller then 2.5% (for two-tailed z), the H0 is rejected . That there is significant biase of call back rate based on race."
   ]
  },
  {
   "cell_type": "code",
   "execution_count": 80,
   "metadata": {},
   "outputs": [
    {
     "name": "stderr",
     "output_type": "stream",
     "text": [
      "  0%|                                                                                         | 0/1000 [00:00<?, ?it/s]c:\\python27\\lib\\site-packages\\ipykernel_launcher.py:17: SettingWithCopyWarning: \n",
      "A value is trying to be set on a copy of a slice from a DataFrame.\n",
      "Try using .loc[row_indexer,col_indexer] = value instead\n",
      "\n",
      "See the caveats in the documentation: http://pandas.pydata.org/pandas-docs/stable/indexing.html#indexing-view-versus-copy\n",
      "100%|██████████████████████████████████████████████████████████████████████████████| 1000/1000 [07:40<00:00,  2.23it/s]\n"
     ]
    },
    {
     "name": "stdout",
     "output_type": "stream",
     "text": [
      "[  9.63819491e-04  -1.21122081e-03  -6.21233035e-03  -1.53131786e-03\n",
      "   1.55906051e-03   5.29870719e-03  -7.50710192e-03  -6.90143696e-03\n",
      "   2.05760067e-03   1.01265823e-03  -1.20053123e-03   7.87406224e-03\n",
      "   7.35429046e-03   1.01113483e-02   1.20183453e-02  -8.78122731e-03\n",
      "   4.76798853e-03  -8.96879592e-03  -5.87760272e-04   9.12089197e-03\n",
      "  -1.19818689e-03  -7.80801935e-03  -3.65430288e-03   3.94661944e-03\n",
      "  -8.63898233e-05  -9.05543909e-04   7.60166121e-03   6.59024106e-03\n",
      "   5.28673799e-03  -9.10102233e-03   3.86129567e-03  -3.36203682e-03\n",
      "   7.58103618e-03  -1.32856630e-02  -8.27966695e-03  -2.76676962e-03\n",
      "  -1.50363886e-03   1.57766908e-02   1.37271758e-02   3.73829821e-03\n",
      "   5.14535172e-03  -4.68288384e-03   1.14837472e-02   1.02995037e-03\n",
      "  -4.62796179e-04   7.48646001e-03  -6.79092977e-04   1.37759433e-02\n",
      "   7.70515589e-03   7.70515589e-03  -5.24893212e-03   8.57218608e-03\n",
      "   6.56141416e-03   1.64271047e-03  -2.76655990e-03  -7.29823596e-03\n",
      "  -3.79521687e-03   1.02647251e-02  -4.97757930e-03   3.25750314e-03\n",
      "  -9.96082158e-03   4.24678653e-04   7.05774036e-03   4.35254354e-03\n",
      "   1.52976122e-02  -3.40783201e-03   2.71140965e-03   3.50566008e-03\n",
      "  -1.33906766e-02  -2.72852585e-03   1.01984962e-02   8.00615204e-03\n",
      "   1.07719480e-02  -4.41861250e-03   3.17188578e-03   9.95057601e-03\n",
      "  -3.37014833e-03   9.99983807e-03   7.80025991e-03   9.28993197e-03\n",
      "  -5.69404598e-03  -2.88875932e-03   1.17834679e-02   2.79975936e-05\n",
      "  -6.14319850e-03   2.37875728e-03  -1.17834679e-02  -7.82746914e-03\n",
      "  -5.02234402e-03  -1.11524559e-02   5.57346226e-03  -5.63658374e-03\n",
      "  -2.54352326e-04   6.75961389e-03   1.14328620e-02  -1.90716839e-03\n",
      "   1.71765980e-03  -1.52316978e-02  -4.09708869e-03  -2.59629385e-03]\n"
     ]
    }
   ],
   "source": [
    "## bootstrapping approach:\n",
    "## supposed we randomly permute the \"race\" type in the data, but keep the chance of getting white and black to be half and half\n",
    "## Null hypothesis), we simulate 1000 times and see how the difference between proportion of white candidates called \n",
    "## and the proportion of black candidates called fall in all simulation.\n",
    "from tqdm import tqdm\n",
    "\n",
    "syn_cb_diff = np.empty(1000)\n",
    "np.random.seed(22)\n",
    "for i in tqdm(range(1000)):\n",
    "    syn = np.random.uniform(0,1,len(data_dump))  # get the random number for separating 'b', 'w' index \n",
    "    ind = []\n",
    "    for x in range(len(syn)):\n",
    "        if syn[x] >= 0.5: \n",
    "            ind += list('w')\n",
    "        else: \n",
    "            ind += list('b')\n",
    "    data_dump['race']=ind   #replace existing race values\n",
    "    # start summarizing call-back proportion\n",
    "    p_wcall = sum(data_dump[data_dump.race=='w'].call)/len(data_dump[data_dump.race=='w'])\n",
    "    p_bcall = sum(data_dump[data_dump.race=='b'].call)/len(data_dump[data_dump.race=='b'])\n",
    "    syn_cb_diff[i] = p_wcall - p_bcall\n",
    "    \n",
    "print syn_cb_diff[0:100]\n",
    "#import matplotlib.pyplot as plt\n",
    "#plt.hist(syn,bins=100)\n"
   ]
  },
  {
   "cell_type": "code",
   "execution_count": 99,
   "metadata": {},
   "outputs": [
    {
     "data": {
      "text/plain": [
       "<matplotlib.text.Text at 0x15648750>"
      ]
     },
     "execution_count": 99,
     "metadata": {},
     "output_type": "execute_result"
    },
    {
     "data": {
      "image/png": "[encoded data removed]",
      "text/plain": [
       "<matplotlib.figure.Figure at 0x13b3cf30>"
      ]
     },
     "metadata": {},
     "output_type": "display_data"
    }
   ],
   "source": [
    "## plot the histogram of simulated call-back rate\n",
    "import matplotlib.pyplot as plt\n",
    "import seaborn as sns\n",
    "sns.distplot(syn_cb_diff, bins = 100)\n",
    "plt.xlabel('difference of the callback rate between white and black(w-b)')\n",
    "plt.ylabel('counts')\n",
    "plt.title('bootstrap distribution based on H0')"
   ]
  },
  {
   "cell_type": "code",
   "execution_count": 98,
   "metadata": {},
   "outputs": [
    {
     "name": "stdout",
     "output_type": "stream",
     "text": [
      "Margin of Error by bootstrap: 0.0155613036312\n",
      "Confidence interval of 95%, two-tailed, based on H0: -0.0147960732719 to 0.0155613036312\n",
      "observed differencee: 0.0320328542094\n",
      "p value by bootstrap: 0\n"
     ]
    }
   ],
   "source": [
    "# calculate margin of error\n",
    "# find counts 97.5% to the right of mean (0)\n",
    "syn_cb_diffary = np.array(syn_cb_diff)\n",
    "sorted = np.sort(syn_cb_diffary)\n",
    "ME = sorted[975]-0\n",
    "print \"Margin of Error by bootstrap:\", ME\n",
    "\n",
    "# confidence interval of 95%, two-tailed ,\n",
    "print \"Confidence interval of 95%, two-tailed, based on H0:\", sorted[25],\"to\", 0+ME\n",
    "\n",
    "#p-value of getting difference\n",
    "print \"observed differencee:\", p_diff\n",
    "print \"p value by bootstrap:\", sum(syn_cb_diffary >= p_diff)/1000"
   ]
  },
  {
   "cell_type": "markdown",
   "metadata": {},
   "source": [
    "#### [ANS] According to the bootstrap result, p-value is much smaller than2.5%, so H0 should be rejected."
   ]
  },
  {
   "cell_type": "markdown",
   "metadata": {},
   "source": [
    "<div class=\"span5 alert alert-success\">\n",
    "<p> 4.Write a story describing the statistical significance in the context or the original problem. </p>\n",
    "</div>"
   ]
  },
  {
   "cell_type": "markdown",
   "metadata": {
    "collapsed": true
   },
   "source": [
    "##### [ANS] The result of the survey states that the call-back rate for a white-sounding name is 9.65% while black-sounding name is 6.44%. The rate of call-back white gets is ~1.5 times more than black. We conducted a statistical hypothesis test to see if the the call-back rate is truely biased toward white-sounding name or the sampling of this result is due to random chance. With a confidence interval 95%,  we can conclude by z-statistic and bootstrap method that the call-back rate is truely not equal between white and black. The probability (or chance) of seeing this survey result, were it that the call-back rate is equal, is only .00039% or fairly close to 0.  Therefore, statistic suggests that the call-back rate is truely not equal between white and black candidates.  "
   ]
  },
  {
   "cell_type": "markdown",
   "metadata": {},
   "source": [
    "<div class=\"span5 alert alert-success\">\n",
    "<p> 5.Does your analysis mean that race/name is the most important factor in callback success? Why or why not? If not, how would you amend your analysis? </p>\n",
    "</div>"
   ]
  },
  {
   "cell_type": "markdown",
   "metadata": {},
   "source": [
    "####  [ANS] We cannot conclude that the race/name is the most important factor affecting callback, because my analysis only consider the race/name factor but not others from the data. We can construct a machine learning model, take into account of all the factors and fit a model. Then, we can analyze/rank the effects of other factors based on a good model."
   ]
  },
  {
   "cell_type": "code",
   "execution_count": null,
   "metadata": {},
   "outputs": [],
   "source": []
  }
 ],
 "metadata": {
  "kernelspec": {
   "display_name": "Python 2",
   "language": "python",
   "name": "python2"
  },
  "language_info": {
   "codemirror_mode": {
    "name": "ipython",
    "version": 2
   },
   "file_extension": ".py",
   "mimetype": "text/x-python",
   "name": "python",
   "nbconvert_exporter": "python",
   "pygments_lexer": "ipython2",
   "version": "2.7.12"
  }
 },
 "nbformat": 4,
 "nbformat_minor": 1
}
